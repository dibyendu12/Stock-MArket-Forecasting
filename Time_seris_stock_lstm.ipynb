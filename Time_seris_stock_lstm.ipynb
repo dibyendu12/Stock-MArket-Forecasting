{
  "cells": [
    {
      "cell_type": "code",
      "execution_count": 1,
      "metadata": {
        "id": "iYGQ7obmOTnQ"
      },
      "outputs": [],
      "source": [
        "import pandas as pd\n",
        "import matplotlib.pyplot as plt\n",
        "import numpy as np\n",
        "from sklearn.model_selection import train_test_split"
      ]
    },
    {
      "cell_type": "code",
      "execution_count": 2,
      "metadata": {
        "id": "ouqatS76O5XG"
      },
      "outputs": [],
      "source": [
        "data=pd.read_csv(\"WIPRO.csv\")"
      ]
    },
    {
      "cell_type": "code",
      "execution_count": 3,
      "metadata": {
        "colab": {
          "base_uri": "https://localhost:8080/",
          "height": 228
        },
        "id": "XianXdvVO9p1",
        "outputId": "21255b59-2952-42b1-9a70-1e0d17a946a8"
      },
      "outputs": [
        {
          "output_type": "execute_result",
          "data": {
            "text/plain": [
              "         Date Symbol Series  Prev Close     Open     High      Low     Last  \\\n",
              "0  2000-01-03  WIPRO     EQ      2522.4  2724.00  2724.20  2724.00  2724.20   \n",
              "1  2000-01-04  WIPRO     EQ      2724.2  2942.15  2942.15  2942.15  2942.15   \n",
              "\n",
              "     Close     VWAP  Volume      Turnover  Trades  Deliverable Volume  \\\n",
              "0  2724.20  2724.17    1599  4.355942e+11     NaN                 NaN   \n",
              "1  2942.15  2942.15    4392  1.292192e+12     NaN                 NaN   \n",
              "\n",
              "   %Deliverble  \n",
              "0          NaN  \n",
              "1          NaN  "
            ],
            "text/html": [
              "\n",
              "  <div id=\"df-02608211-a9ab-4705-8ffc-3cf5228800fa\">\n",
              "    <div class=\"colab-df-container\">\n",
              "      <div>\n",
              "<style scoped>\n",
              "    .dataframe tbody tr th:only-of-type {\n",
              "        vertical-align: middle;\n",
              "    }\n",
              "\n",
              "    .dataframe tbody tr th {\n",
              "        vertical-align: top;\n",
              "    }\n",
              "\n",
              "    .dataframe thead th {\n",
              "        text-align: right;\n",
              "    }\n",
              "</style>\n",
              "<table border=\"1\" class=\"dataframe\">\n",
              "  <thead>\n",
              "    <tr style=\"text-align: right;\">\n",
              "      <th></th>\n",
              "      <th>Date</th>\n",
              "      <th>Symbol</th>\n",
              "      <th>Series</th>\n",
              "      <th>Prev Close</th>\n",
              "      <th>Open</th>\n",
              "      <th>High</th>\n",
              "      <th>Low</th>\n",
              "      <th>Last</th>\n",
              "      <th>Close</th>\n",
              "      <th>VWAP</th>\n",
              "      <th>Volume</th>\n",
              "      <th>Turnover</th>\n",
              "      <th>Trades</th>\n",
              "      <th>Deliverable Volume</th>\n",
              "      <th>%Deliverble</th>\n",
              "    </tr>\n",
              "  </thead>\n",
              "  <tbody>\n",
              "    <tr>\n",
              "      <th>0</th>\n",
              "      <td>2000-01-03</td>\n",
              "      <td>WIPRO</td>\n",
              "      <td>EQ</td>\n",
              "      <td>2522.4</td>\n",
              "      <td>2724.00</td>\n",
              "      <td>2724.20</td>\n",
              "      <td>2724.00</td>\n",
              "      <td>2724.20</td>\n",
              "      <td>2724.20</td>\n",
              "      <td>2724.17</td>\n",
              "      <td>1599</td>\n",
              "      <td>4.355942e+11</td>\n",
              "      <td>NaN</td>\n",
              "      <td>NaN</td>\n",
              "      <td>NaN</td>\n",
              "    </tr>\n",
              "    <tr>\n",
              "      <th>1</th>\n",
              "      <td>2000-01-04</td>\n",
              "      <td>WIPRO</td>\n",
              "      <td>EQ</td>\n",
              "      <td>2724.2</td>\n",
              "      <td>2942.15</td>\n",
              "      <td>2942.15</td>\n",
              "      <td>2942.15</td>\n",
              "      <td>2942.15</td>\n",
              "      <td>2942.15</td>\n",
              "      <td>2942.15</td>\n",
              "      <td>4392</td>\n",
              "      <td>1.292192e+12</td>\n",
              "      <td>NaN</td>\n",
              "      <td>NaN</td>\n",
              "      <td>NaN</td>\n",
              "    </tr>\n",
              "  </tbody>\n",
              "</table>\n",
              "</div>\n",
              "      <button class=\"colab-df-convert\" onclick=\"convertToInteractive('df-02608211-a9ab-4705-8ffc-3cf5228800fa')\"\n",
              "              title=\"Convert this dataframe to an interactive table.\"\n",
              "              style=\"display:none;\">\n",
              "        \n",
              "  <svg xmlns=\"http://www.w3.org/2000/svg\" height=\"24px\"viewBox=\"0 0 24 24\"\n",
              "       width=\"24px\">\n",
              "    <path d=\"M0 0h24v24H0V0z\" fill=\"none\"/>\n",
              "    <path d=\"M18.56 5.44l.94 2.06.94-2.06 2.06-.94-2.06-.94-.94-2.06-.94 2.06-2.06.94zm-11 1L8.5 8.5l.94-2.06 2.06-.94-2.06-.94L8.5 2.5l-.94 2.06-2.06.94zm10 10l.94 2.06.94-2.06 2.06-.94-2.06-.94-.94-2.06-.94 2.06-2.06.94z\"/><path d=\"M17.41 7.96l-1.37-1.37c-.4-.4-.92-.59-1.43-.59-.52 0-1.04.2-1.43.59L10.3 9.45l-7.72 7.72c-.78.78-.78 2.05 0 2.83L4 21.41c.39.39.9.59 1.41.59.51 0 1.02-.2 1.41-.59l7.78-7.78 2.81-2.81c.8-.78.8-2.07 0-2.86zM5.41 20L4 18.59l7.72-7.72 1.47 1.35L5.41 20z\"/>\n",
              "  </svg>\n",
              "      </button>\n",
              "      \n",
              "  <style>\n",
              "    .colab-df-container {\n",
              "      display:flex;\n",
              "      flex-wrap:wrap;\n",
              "      gap: 12px;\n",
              "    }\n",
              "\n",
              "    .colab-df-convert {\n",
              "      background-color: #E8F0FE;\n",
              "      border: none;\n",
              "      border-radius: 50%;\n",
              "      cursor: pointer;\n",
              "      display: none;\n",
              "      fill: #1967D2;\n",
              "      height: 32px;\n",
              "      padding: 0 0 0 0;\n",
              "      width: 32px;\n",
              "    }\n",
              "\n",
              "    .colab-df-convert:hover {\n",
              "      background-color: #E2EBFA;\n",
              "      box-shadow: 0px 1px 2px rgba(60, 64, 67, 0.3), 0px 1px 3px 1px rgba(60, 64, 67, 0.15);\n",
              "      fill: #174EA6;\n",
              "    }\n",
              "\n",
              "    [theme=dark] .colab-df-convert {\n",
              "      background-color: #3B4455;\n",
              "      fill: #D2E3FC;\n",
              "    }\n",
              "\n",
              "    [theme=dark] .colab-df-convert:hover {\n",
              "      background-color: #434B5C;\n",
              "      box-shadow: 0px 1px 3px 1px rgba(0, 0, 0, 0.15);\n",
              "      filter: drop-shadow(0px 1px 2px rgba(0, 0, 0, 0.3));\n",
              "      fill: #FFFFFF;\n",
              "    }\n",
              "  </style>\n",
              "\n",
              "      <script>\n",
              "        const buttonEl =\n",
              "          document.querySelector('#df-02608211-a9ab-4705-8ffc-3cf5228800fa button.colab-df-convert');\n",
              "        buttonEl.style.display =\n",
              "          google.colab.kernel.accessAllowed ? 'block' : 'none';\n",
              "\n",
              "        async function convertToInteractive(key) {\n",
              "          const element = document.querySelector('#df-02608211-a9ab-4705-8ffc-3cf5228800fa');\n",
              "          const dataTable =\n",
              "            await google.colab.kernel.invokeFunction('convertToInteractive',\n",
              "                                                     [key], {});\n",
              "          if (!dataTable) return;\n",
              "\n",
              "          const docLinkHtml = 'Like what you see? Visit the ' +\n",
              "            '<a target=\"_blank\" href=https://colab.research.google.com/notebooks/data_table.ipynb>data table notebook</a>'\n",
              "            + ' to learn more about interactive tables.';\n",
              "          element.innerHTML = '';\n",
              "          dataTable['output_type'] = 'display_data';\n",
              "          await google.colab.output.renderOutput(dataTable, element);\n",
              "          const docLink = document.createElement('div');\n",
              "          docLink.innerHTML = docLinkHtml;\n",
              "          element.appendChild(docLink);\n",
              "        }\n",
              "      </script>\n",
              "    </div>\n",
              "  </div>\n",
              "  "
            ]
          },
          "metadata": {},
          "execution_count": 3
        }
      ],
      "source": [
        "data.head(2)"
      ]
    },
    {
      "cell_type": "code",
      "execution_count": 4,
      "metadata": {
        "id": "yx6b2ZpzROI-"
      },
      "outputs": [],
      "source": [
        "data.drop([\"Symbol\",\"Series\",\"Turnover\",\"Trades\",\"Deliverable Volume\",\"%Deliverble\"],axis=1,inplace=True)"
      ]
    },
    {
      "cell_type": "code",
      "execution_count": 5,
      "metadata": {
        "id": "80GXx2AfSKJ9"
      },
      "outputs": [],
      "source": [
        "data.drop(\"Date\",axis=1,inplace=True)"
      ]
    },
    {
      "cell_type": "code",
      "execution_count": 6,
      "metadata": {
        "id": "3_7Qg2yYzwZR"
      },
      "outputs": [],
      "source": [
        "target=data[\"Open\"]\n",
        "data.drop(\"Open\",axis=1,inplace=True)"
      ]
    },
    {
      "cell_type": "code",
      "execution_count": 7,
      "metadata": {
        "colab": {
          "base_uri": "https://localhost:8080/",
          "height": 143
        },
        "id": "40TPE2jL92Eo",
        "outputId": "5adfb307-1c77-4da3-c2eb-0c88ba1301b5"
      },
      "outputs": [
        {
          "output_type": "execute_result",
          "data": {
            "text/plain": [
              "   Prev Close     High      Low     Last    Close     VWAP  Volume\n",
              "0     2522.40  2724.20  2724.00  2724.20  2724.20  2724.17    1599\n",
              "1     2724.20  2942.15  2942.15  2942.15  2942.15  2942.15    4392\n",
              "2     2942.15  3177.55  2715.00  3000.00  2990.10  3063.86  132297"
            ],
            "text/html": [
              "\n",
              "  <div id=\"df-ee888119-19f0-4490-98b0-006e7468ce9c\">\n",
              "    <div class=\"colab-df-container\">\n",
              "      <div>\n",
              "<style scoped>\n",
              "    .dataframe tbody tr th:only-of-type {\n",
              "        vertical-align: middle;\n",
              "    }\n",
              "\n",
              "    .dataframe tbody tr th {\n",
              "        vertical-align: top;\n",
              "    }\n",
              "\n",
              "    .dataframe thead th {\n",
              "        text-align: right;\n",
              "    }\n",
              "</style>\n",
              "<table border=\"1\" class=\"dataframe\">\n",
              "  <thead>\n",
              "    <tr style=\"text-align: right;\">\n",
              "      <th></th>\n",
              "      <th>Prev Close</th>\n",
              "      <th>High</th>\n",
              "      <th>Low</th>\n",
              "      <th>Last</th>\n",
              "      <th>Close</th>\n",
              "      <th>VWAP</th>\n",
              "      <th>Volume</th>\n",
              "    </tr>\n",
              "  </thead>\n",
              "  <tbody>\n",
              "    <tr>\n",
              "      <th>0</th>\n",
              "      <td>2522.40</td>\n",
              "      <td>2724.20</td>\n",
              "      <td>2724.00</td>\n",
              "      <td>2724.20</td>\n",
              "      <td>2724.20</td>\n",
              "      <td>2724.17</td>\n",
              "      <td>1599</td>\n",
              "    </tr>\n",
              "    <tr>\n",
              "      <th>1</th>\n",
              "      <td>2724.20</td>\n",
              "      <td>2942.15</td>\n",
              "      <td>2942.15</td>\n",
              "      <td>2942.15</td>\n",
              "      <td>2942.15</td>\n",
              "      <td>2942.15</td>\n",
              "      <td>4392</td>\n",
              "    </tr>\n",
              "    <tr>\n",
              "      <th>2</th>\n",
              "      <td>2942.15</td>\n",
              "      <td>3177.55</td>\n",
              "      <td>2715.00</td>\n",
              "      <td>3000.00</td>\n",
              "      <td>2990.10</td>\n",
              "      <td>3063.86</td>\n",
              "      <td>132297</td>\n",
              "    </tr>\n",
              "  </tbody>\n",
              "</table>\n",
              "</div>\n",
              "      <button class=\"colab-df-convert\" onclick=\"convertToInteractive('df-ee888119-19f0-4490-98b0-006e7468ce9c')\"\n",
              "              title=\"Convert this dataframe to an interactive table.\"\n",
              "              style=\"display:none;\">\n",
              "        \n",
              "  <svg xmlns=\"http://www.w3.org/2000/svg\" height=\"24px\"viewBox=\"0 0 24 24\"\n",
              "       width=\"24px\">\n",
              "    <path d=\"M0 0h24v24H0V0z\" fill=\"none\"/>\n",
              "    <path d=\"M18.56 5.44l.94 2.06.94-2.06 2.06-.94-2.06-.94-.94-2.06-.94 2.06-2.06.94zm-11 1L8.5 8.5l.94-2.06 2.06-.94-2.06-.94L8.5 2.5l-.94 2.06-2.06.94zm10 10l.94 2.06.94-2.06 2.06-.94-2.06-.94-.94-2.06-.94 2.06-2.06.94z\"/><path d=\"M17.41 7.96l-1.37-1.37c-.4-.4-.92-.59-1.43-.59-.52 0-1.04.2-1.43.59L10.3 9.45l-7.72 7.72c-.78.78-.78 2.05 0 2.83L4 21.41c.39.39.9.59 1.41.59.51 0 1.02-.2 1.41-.59l7.78-7.78 2.81-2.81c.8-.78.8-2.07 0-2.86zM5.41 20L4 18.59l7.72-7.72 1.47 1.35L5.41 20z\"/>\n",
              "  </svg>\n",
              "      </button>\n",
              "      \n",
              "  <style>\n",
              "    .colab-df-container {\n",
              "      display:flex;\n",
              "      flex-wrap:wrap;\n",
              "      gap: 12px;\n",
              "    }\n",
              "\n",
              "    .colab-df-convert {\n",
              "      background-color: #E8F0FE;\n",
              "      border: none;\n",
              "      border-radius: 50%;\n",
              "      cursor: pointer;\n",
              "      display: none;\n",
              "      fill: #1967D2;\n",
              "      height: 32px;\n",
              "      padding: 0 0 0 0;\n",
              "      width: 32px;\n",
              "    }\n",
              "\n",
              "    .colab-df-convert:hover {\n",
              "      background-color: #E2EBFA;\n",
              "      box-shadow: 0px 1px 2px rgba(60, 64, 67, 0.3), 0px 1px 3px 1px rgba(60, 64, 67, 0.15);\n",
              "      fill: #174EA6;\n",
              "    }\n",
              "\n",
              "    [theme=dark] .colab-df-convert {\n",
              "      background-color: #3B4455;\n",
              "      fill: #D2E3FC;\n",
              "    }\n",
              "\n",
              "    [theme=dark] .colab-df-convert:hover {\n",
              "      background-color: #434B5C;\n",
              "      box-shadow: 0px 1px 3px 1px rgba(0, 0, 0, 0.15);\n",
              "      filter: drop-shadow(0px 1px 2px rgba(0, 0, 0, 0.3));\n",
              "      fill: #FFFFFF;\n",
              "    }\n",
              "  </style>\n",
              "\n",
              "      <script>\n",
              "        const buttonEl =\n",
              "          document.querySelector('#df-ee888119-19f0-4490-98b0-006e7468ce9c button.colab-df-convert');\n",
              "        buttonEl.style.display =\n",
              "          google.colab.kernel.accessAllowed ? 'block' : 'none';\n",
              "\n",
              "        async function convertToInteractive(key) {\n",
              "          const element = document.querySelector('#df-ee888119-19f0-4490-98b0-006e7468ce9c');\n",
              "          const dataTable =\n",
              "            await google.colab.kernel.invokeFunction('convertToInteractive',\n",
              "                                                     [key], {});\n",
              "          if (!dataTable) return;\n",
              "\n",
              "          const docLinkHtml = 'Like what you see? Visit the ' +\n",
              "            '<a target=\"_blank\" href=https://colab.research.google.com/notebooks/data_table.ipynb>data table notebook</a>'\n",
              "            + ' to learn more about interactive tables.';\n",
              "          element.innerHTML = '';\n",
              "          dataTable['output_type'] = 'display_data';\n",
              "          await google.colab.output.renderOutput(dataTable, element);\n",
              "          const docLink = document.createElement('div');\n",
              "          docLink.innerHTML = docLinkHtml;\n",
              "          element.appendChild(docLink);\n",
              "        }\n",
              "      </script>\n",
              "    </div>\n",
              "  </div>\n",
              "  "
            ]
          },
          "metadata": {},
          "execution_count": 7
        }
      ],
      "source": [
        "data.head(3)"
      ]
    },
    {
      "cell_type": "code",
      "execution_count": 8,
      "metadata": {
        "colab": {
          "base_uri": "https://localhost:8080/"
        },
        "id": "lFHOZPmKz_zp",
        "outputId": "6b06fade-ab86-4dd4-c908-24d2227efbab"
      },
      "outputs": [
        {
          "output_type": "execute_result",
          "data": {
            "text/plain": [
              "(5306, 7)"
            ]
          },
          "metadata": {},
          "execution_count": 8
        }
      ],
      "source": [
        "data.shape"
      ]
    },
    {
      "cell_type": "code",
      "execution_count": 9,
      "metadata": {
        "id": "Ts2FHlct-MiH"
      },
      "outputs": [],
      "source": [
        "train,test,y_train,y_test=train_test_split(data,target,test_size=0.3)"
      ]
    },
    {
      "cell_type": "code",
      "execution_count": 10,
      "metadata": {
        "colab": {
          "base_uri": "https://localhost:8080/"
        },
        "id": "zT3pYHX1-Yk3",
        "outputId": "0bbc8364-ba3a-4fa5-a8f5-24352b535cc4"
      },
      "outputs": [
        {
          "output_type": "execute_result",
          "data": {
            "text/plain": [
              "(3714,)"
            ]
          },
          "metadata": {},
          "execution_count": 10
        }
      ],
      "source": [
        "y_train.shape"
      ]
    },
    {
      "cell_type": "code",
      "execution_count": 26,
      "metadata": {
        "id": "A02q4FWECWUo"
      },
      "outputs": [],
      "source": [
        "l=train[0:2].values"
      ]
    },
    {
      "cell_type": "code",
      "source": [
        "l"
      ],
      "metadata": {
        "colab": {
          "base_uri": "https://localhost:8080/"
        },
        "id": "W3ggpV6hFjow",
        "outputId": "13193f3e-def5-4be9-9d5d-29f38fbb196c"
      },
      "execution_count": 27,
      "outputs": [
        {
          "output_type": "execute_result",
          "data": {
            "text/plain": [
              "array([[2.7055000e+02, 2.7320000e+02, 2.6715000e+02, 2.6825000e+02,\n",
              "        2.6885000e+02, 2.7034000e+02, 1.3990387e+07],\n",
              "       [2.5475000e+02, 2.6000000e+02, 2.5380000e+02, 2.5990000e+02,\n",
              "        2.5930000e+02, 2.5860000e+02, 3.4962620e+06]])"
            ]
          },
          "metadata": {},
          "execution_count": 27
        }
      ]
    },
    {
      "cell_type": "code",
      "execution_count": 12,
      "metadata": {
        "id": "WpHp3DA2HqSy"
      },
      "outputs": [],
      "source": [
        "from sklearn.preprocessing import MinMaxScaler"
      ]
    },
    {
      "cell_type": "code",
      "execution_count": null,
      "metadata": {
        "colab": {
          "base_uri": "https://localhost:8080/"
        },
        "id": "QcCVXqzMLst2",
        "outputId": "a6e7e322-6f19-4b69-9143-cfa198f3da5f"
      },
      "outputs": [
        {
          "data": {
            "text/plain": [
              "array([[0.03269351],\n",
              "       [0.03341674],\n",
              "       [0.08748007],\n",
              "       ...,\n",
              "       [0.11331602],\n",
              "       [0.01213139],\n",
              "       [0.03997867]])"
            ]
          },
          "execution_count": 69,
          "metadata": {},
          "output_type": "execute_result"
        }
      ],
      "source": [
        "High_train"
      ]
    },
    {
      "cell_type": "code",
      "execution_count": 35,
      "metadata": {
        "id": "jbg6EwQWKXtH"
      },
      "outputs": [],
      "source": [
        "def norma(data,tdata):\n",
        "  prev=MinMaxScaler()\n",
        "  prev_close=np.array(data)\n",
        "  tprev_close=np.array(tdata)\n",
        "  prev.fit(prev_close.reshape(-1,1))\n",
        "  prev_train=prev.transform(prev_close.reshape(-1,1))\n",
        "  prev_test=prev.transform(tprev_close.reshape(-1,1))\n",
        "  return list(prev_train),list(prev_test)"
      ]
    },
    {
      "cell_type": "code",
      "execution_count": 36,
      "metadata": {
        "id": "34oam5GILXk4"
      },
      "outputs": [],
      "source": [
        "train_prevclose,test_prevclose=norma(train[\"Prev Close\"],test[\"Prev Close\"])\n",
        "train_high,test_high=norma(train[\"High\"],test[\"High\"])\n",
        "train_low,test_low=norma(train[\"Low\"],test[\"Low\"])\n",
        "train_last,test_last=norma(train[\"Last\"],test[\"Last\"])\n",
        "train_close,test_close=norma(train[\"Close\"],test[\"Close\"])\n",
        "train_VWAP,test_VWAP=norma(train[\"VWAP\"],test[\"VWAP\"])\n",
        "train_volume,test_volume=norma(train[\"Volume\"],test[\"Volume\"])"
      ]
    },
    {
      "cell_type": "code",
      "source": [
        "train_norm=pd.DataFrame({\"prevclose\":train_prevclose,\n",
        "                         \"high\":train_high,\n",
        "                         \"low\":train_low,\n",
        "                         \"last\":train_last\n",
        "                         })"
      ],
      "metadata": {
        "id": "KRWv_JjBF4zw"
      },
      "execution_count": 69,
      "outputs": []
    },
    {
      "cell_type": "code",
      "source": [
        "test_norm=pd.DataFrame({\"prevclose\":test_prevclose,\n",
        "                         \"high\":test_high,\n",
        "                         \"low\":test_low,\n",
        "                         \"last\":test_last\n",
        "                         })"
      ],
      "metadata": {
        "id": "lbHxvwflHIUN"
      },
      "execution_count": 68,
      "outputs": []
    },
    {
      "cell_type": "code",
      "execution_count": 41,
      "metadata": {
        "id": "Lk3l5B0X-Hh7"
      },
      "outputs": [],
      "source": [
        "def moving_window(data,end_index,start_index,target):\n",
        "  data_set=[]\n",
        "  target_set=[]\n",
        "  kl=end_index-start_index\n",
        "  print(\"the kl is\",kl)\n",
        "  i=0\n",
        "  while i<3694:\n",
        "    k=i\n",
        "    l=i\n",
        "   \n",
        "   \n",
        "    data_set.append(data[k:k+20].values)\n",
        "    target_set.append(target[l+20])\n",
        "    i=i+1\n",
        "  return data_set,target_set"
      ]
    },
    {
      "cell_type": "code",
      "execution_count": null,
      "metadata": {
        "colab": {
          "base_uri": "https://localhost:8080/"
        },
        "id": "X5BBZXMUEaju",
        "outputId": "c3db3514-ff3e-4b1b-8cb4-52557b563ace"
      },
      "outputs": [
        {
          "data": {
            "text/plain": [
              "3714"
            ]
          },
          "execution_count": 41,
          "metadata": {},
          "output_type": "execute_result"
        }
      ],
      "source": [
        "len(train)"
      ]
    },
    {
      "cell_type": "code",
      "execution_count": 71,
      "metadata": {
        "id": "9tEMmBDSQO0g"
      },
      "outputs": [],
      "source": [
        "jkl=y_train.values"
      ]
    },
    {
      "cell_type": "code",
      "execution_count": null,
      "metadata": {
        "colab": {
          "base_uri": "https://localhost:8080/"
        },
        "id": "XZZQZmgtQfOf",
        "outputId": "b6beb7dd-bfa2-49b0-b7d8-6032145b3081"
      },
      "outputs": [
        {
          "data": {
            "text/plain": [
              "763.0"
            ]
          },
          "execution_count": 20,
          "metadata": {},
          "output_type": "execute_result"
        }
      ],
      "source": [
        "jkl[3713]"
      ]
    },
    {
      "cell_type": "code",
      "execution_count": 72,
      "metadata": {
        "colab": {
          "base_uri": "https://localhost:8080/"
        },
        "id": "XsGCMwAh_hN_",
        "outputId": "291dc855-e5f6-4799-85a6-730723a9e0a2"
      },
      "outputs": [
        {
          "output_type": "stream",
          "name": "stdout",
          "text": [
            "the kl is 3694\n"
          ]
        }
      ],
      "source": [
        "z,u=moving_window(train_norm,len(train),20,jkl)"
      ]
    },
    {
      "cell_type": "code",
      "execution_count": null,
      "metadata": {
        "colab": {
          "base_uri": "https://localhost:8080/"
        },
        "id": "FXugAOpeTDYn",
        "outputId": "7c263935-a837-4011-9728-9f5ece3afe0c"
      },
      "outputs": [
        {
          "data": {
            "text/plain": [
              "3694"
            ]
          },
          "execution_count": 22,
          "metadata": {},
          "output_type": "execute_result"
        }
      ],
      "source": [
        "len(z)"
      ]
    },
    {
      "cell_type": "code",
      "execution_count": 73,
      "metadata": {
        "id": "TuVFDns0SPI3"
      },
      "outputs": [],
      "source": [
        "z=np.asarray(z).astype(np.float32)"
      ]
    },
    {
      "cell_type": "code",
      "execution_count": 74,
      "metadata": {
        "colab": {
          "base_uri": "https://localhost:8080/"
        },
        "id": "iJlMeTUKAfgH",
        "outputId": "f29030e8-6b8d-4ead-e4dd-de50aa8818c2"
      },
      "outputs": [
        {
          "output_type": "execute_result",
          "data": {
            "text/plain": [
              "(3694, 20, 4)"
            ]
          },
          "metadata": {},
          "execution_count": 74
        }
      ],
      "source": [
        "z.shape"
      ]
    },
    {
      "cell_type": "code",
      "source": [
        "u=np.asarray(u).astype(np.float32)"
      ],
      "metadata": {
        "id": "wLN8K9feIIpW"
      },
      "execution_count": 75,
      "outputs": []
    },
    {
      "cell_type": "code",
      "source": [
        "u.shape"
      ],
      "metadata": {
        "colab": {
          "base_uri": "https://localhost:8080/"
        },
        "id": "gudNL57FIIxm",
        "outputId": "ffd2619e-0dde-486c-bf5c-f7063c8faed6"
      },
      "execution_count": 53,
      "outputs": [
        {
          "output_type": "execute_result",
          "data": {
            "text/plain": [
              "(3694,)"
            ]
          },
          "metadata": {},
          "execution_count": 53
        }
      ]
    },
    {
      "cell_type": "code",
      "source": [
        "import tensorflow as tf"
      ],
      "metadata": {
        "id": "fYKV1TlnIqrU"
      },
      "execution_count": 54,
      "outputs": []
    },
    {
      "cell_type": "code",
      "source": [
        "### Create the Stacked LSTM model\n",
        "from tensorflow.keras.models import Sequential\n",
        "from tensorflow.keras.layers import Dense\n",
        "from tensorflow.keras.layers import LSTM"
      ],
      "metadata": {
        "id": "4hWyz_wsIOOM"
      },
      "execution_count": 55,
      "outputs": []
    },
    {
      "cell_type": "code",
      "source": [
        "model=Sequential()\n",
        "model.add(LSTM(20,return_sequences=True,input_shape=(20,4)))\n",
        "model.add(LSTM(20,return_sequences=True))\n",
        "model.add(LSTM(20))\n",
        "model.add(Dense(1))\n",
        "model.compile(loss='mean_squared_error',optimizer='adam')"
      ],
      "metadata": {
        "id": "Enqg57RnJjRs"
      },
      "execution_count": 79,
      "outputs": []
    },
    {
      "cell_type": "code",
      "source": [
        "model.summary()"
      ],
      "metadata": {
        "colab": {
          "base_uri": "https://localhost:8080/"
        },
        "id": "sr37jwJBJjUE",
        "outputId": "a23bbc30-6cc3-4c3e-e117-04e46c92f7d3"
      },
      "execution_count": 80,
      "outputs": [
        {
          "output_type": "stream",
          "name": "stdout",
          "text": [
            "Model: \"sequential_3\"\n",
            "_________________________________________________________________\n",
            " Layer (type)                Output Shape              Param #   \n",
            "=================================================================\n",
            " lstm_9 (LSTM)               (None, 20, 20)            2000      \n",
            "                                                                 \n",
            " lstm_10 (LSTM)              (None, 20, 20)            3280      \n",
            "                                                                 \n",
            " lstm_11 (LSTM)              (None, 20)                3280      \n",
            "                                                                 \n",
            " dense_3 (Dense)             (None, 1)                 21        \n",
            "                                                                 \n",
            "=================================================================\n",
            "Total params: 8,581\n",
            "Trainable params: 8,581\n",
            "Non-trainable params: 0\n",
            "_________________________________________________________________\n"
          ]
        }
      ]
    },
    {
      "cell_type": "code",
      "source": [
        "model.fit(z,u,epochs=100,batch_size=64,verbose=1)\n"
      ],
      "metadata": {
        "colab": {
          "base_uri": "https://localhost:8080/"
        },
        "id": "ka7-SiHdJoA1",
        "outputId": "5e62aae6-2ee6-4c3a-e5b0-e36ccf6bf600"
      },
      "execution_count": 81,
      "outputs": [
        {
          "output_type": "stream",
          "name": "stdout",
          "text": [
            "Epoch 1/100\n",
            "58/58 [==============================] - 4s 7ms/step - loss: 1194214.5000\n",
            "Epoch 2/100\n",
            "58/58 [==============================] - 0s 7ms/step - loss: 1188025.2500\n",
            "Epoch 3/100\n",
            "58/58 [==============================] - 0s 7ms/step - loss: 1185416.2500\n",
            "Epoch 4/100\n",
            "58/58 [==============================] - 0s 6ms/step - loss: 1183273.5000\n",
            "Epoch 5/100\n",
            "58/58 [==============================] - 0s 7ms/step - loss: 1181257.3750\n",
            "Epoch 6/100\n",
            "58/58 [==============================] - 0s 6ms/step - loss: 1179311.5000\n",
            "Epoch 7/100\n",
            "58/58 [==============================] - 0s 6ms/step - loss: 1177404.0000\n",
            "Epoch 8/100\n",
            "58/58 [==============================] - 0s 6ms/step - loss: 1175528.7500\n",
            "Epoch 9/100\n",
            "58/58 [==============================] - 0s 7ms/step - loss: 1173675.1250\n",
            "Epoch 10/100\n",
            "58/58 [==============================] - 0s 6ms/step - loss: 1171833.1250\n",
            "Epoch 11/100\n",
            "58/58 [==============================] - 0s 6ms/step - loss: 1170014.1250\n",
            "Epoch 12/100\n",
            "58/58 [==============================] - 0s 6ms/step - loss: 1168197.2500\n",
            "Epoch 13/100\n",
            "58/58 [==============================] - 0s 6ms/step - loss: 1166406.2500\n",
            "Epoch 14/100\n",
            "58/58 [==============================] - 0s 6ms/step - loss: 1164607.8750\n",
            "Epoch 15/100\n",
            "58/58 [==============================] - 0s 7ms/step - loss: 1162827.8750\n",
            "Epoch 16/100\n",
            "58/58 [==============================] - 0s 6ms/step - loss: 1161052.8750\n",
            "Epoch 17/100\n",
            "58/58 [==============================] - 0s 7ms/step - loss: 1159286.0000\n",
            "Epoch 18/100\n",
            "58/58 [==============================] - 0s 7ms/step - loss: 1157529.2500\n",
            "Epoch 19/100\n",
            "58/58 [==============================] - 0s 7ms/step - loss: 1155775.0000\n",
            "Epoch 20/100\n",
            "58/58 [==============================] - 0s 6ms/step - loss: 1154033.6250\n",
            "Epoch 21/100\n",
            "58/58 [==============================] - 0s 7ms/step - loss: 1152288.2500\n",
            "Epoch 22/100\n",
            "58/58 [==============================] - 0s 6ms/step - loss: 1150554.8750\n",
            "Epoch 23/100\n",
            "58/58 [==============================] - 0s 6ms/step - loss: 1148826.3750\n",
            "Epoch 24/100\n",
            "58/58 [==============================] - 0s 6ms/step - loss: 1147098.0000\n",
            "Epoch 25/100\n",
            "58/58 [==============================] - 0s 6ms/step - loss: 1145381.7500\n",
            "Epoch 26/100\n",
            "58/58 [==============================] - 0s 7ms/step - loss: 1143664.8750\n",
            "Epoch 27/100\n",
            "58/58 [==============================] - 0s 6ms/step - loss: 1141956.3750\n",
            "Epoch 28/100\n",
            "58/58 [==============================] - 0s 6ms/step - loss: 1140253.0000\n",
            "Epoch 29/100\n",
            "58/58 [==============================] - 0s 6ms/step - loss: 1138545.7500\n",
            "Epoch 30/100\n",
            "58/58 [==============================] - 0s 6ms/step - loss: 1136855.1250\n",
            "Epoch 31/100\n",
            "58/58 [==============================] - 0s 6ms/step - loss: 1135158.6250\n",
            "Epoch 32/100\n",
            "58/58 [==============================] - 0s 6ms/step - loss: 1133471.8750\n",
            "Epoch 33/100\n",
            "58/58 [==============================] - 0s 7ms/step - loss: 1131785.6250\n",
            "Epoch 34/100\n",
            "58/58 [==============================] - 0s 6ms/step - loss: 1130105.3750\n",
            "Epoch 35/100\n",
            "58/58 [==============================] - 0s 6ms/step - loss: 1128429.8750\n",
            "Epoch 36/100\n",
            "58/58 [==============================] - 0s 7ms/step - loss: 1126757.0000\n",
            "Epoch 37/100\n",
            "58/58 [==============================] - 0s 6ms/step - loss: 1125091.7500\n",
            "Epoch 38/100\n",
            "58/58 [==============================] - 0s 6ms/step - loss: 1123422.6250\n",
            "Epoch 39/100\n",
            "58/58 [==============================] - 0s 7ms/step - loss: 1121763.7500\n",
            "Epoch 40/100\n",
            "58/58 [==============================] - 0s 6ms/step - loss: 1120102.6250\n",
            "Epoch 41/100\n",
            "58/58 [==============================] - 0s 6ms/step - loss: 1118452.7500\n",
            "Epoch 42/100\n",
            "58/58 [==============================] - 0s 6ms/step - loss: 1116806.6250\n",
            "Epoch 43/100\n",
            "58/58 [==============================] - 0s 6ms/step - loss: 1115156.2500\n",
            "Epoch 44/100\n",
            "58/58 [==============================] - 0s 6ms/step - loss: 1113519.5000\n",
            "Epoch 45/100\n",
            "58/58 [==============================] - 0s 6ms/step - loss: 1111881.0000\n",
            "Epoch 46/100\n",
            "58/58 [==============================] - 0s 6ms/step - loss: 1110246.2500\n",
            "Epoch 47/100\n",
            "58/58 [==============================] - 0s 7ms/step - loss: 1108615.2500\n",
            "Epoch 48/100\n",
            "58/58 [==============================] - 0s 6ms/step - loss: 1106988.7500\n",
            "Epoch 49/100\n",
            "58/58 [==============================] - 0s 6ms/step - loss: 1105364.3750\n",
            "Epoch 50/100\n",
            "58/58 [==============================] - 0s 6ms/step - loss: 1103747.3750\n",
            "Epoch 51/100\n",
            "58/58 [==============================] - 0s 6ms/step - loss: 1102127.2500\n",
            "Epoch 52/100\n",
            "58/58 [==============================] - 0s 7ms/step - loss: 1100519.5000\n",
            "Epoch 53/100\n",
            "58/58 [==============================] - 0s 7ms/step - loss: 1098903.3750\n",
            "Epoch 54/100\n",
            "58/58 [==============================] - 0s 6ms/step - loss: 1097299.5000\n",
            "Epoch 55/100\n",
            "58/58 [==============================] - 0s 6ms/step - loss: 1095700.1250\n",
            "Epoch 56/100\n",
            "58/58 [==============================] - 0s 6ms/step - loss: 1094094.7500\n",
            "Epoch 57/100\n",
            "58/58 [==============================] - 0s 6ms/step - loss: 1092501.2500\n",
            "Epoch 58/100\n",
            "58/58 [==============================] - 0s 6ms/step - loss: 1090911.2500\n",
            "Epoch 59/100\n",
            "58/58 [==============================] - 0s 6ms/step - loss: 1089315.7500\n",
            "Epoch 60/100\n",
            "58/58 [==============================] - 0s 6ms/step - loss: 1087732.3750\n",
            "Epoch 61/100\n",
            "58/58 [==============================] - 0s 7ms/step - loss: 1086149.1250\n",
            "Epoch 62/100\n",
            "58/58 [==============================] - 0s 6ms/step - loss: 1084566.7500\n",
            "Epoch 63/100\n",
            "58/58 [==============================] - 0s 6ms/step - loss: 1082989.5000\n",
            "Epoch 64/100\n",
            "58/58 [==============================] - 0s 6ms/step - loss: 1081413.5000\n",
            "Epoch 65/100\n",
            "58/58 [==============================] - 0s 6ms/step - loss: 1079845.1250\n",
            "Epoch 66/100\n",
            "58/58 [==============================] - 0s 6ms/step - loss: 1078275.2500\n",
            "Epoch 67/100\n",
            "58/58 [==============================] - 0s 6ms/step - loss: 1076708.5000\n",
            "Epoch 68/100\n",
            "58/58 [==============================] - 0s 6ms/step - loss: 1075150.5000\n",
            "Epoch 69/100\n",
            "58/58 [==============================] - 0s 6ms/step - loss: 1073587.5000\n",
            "Epoch 70/100\n",
            "58/58 [==============================] - 0s 6ms/step - loss: 1072037.0000\n",
            "Epoch 71/100\n",
            "58/58 [==============================] - 0s 6ms/step - loss: 1070485.8750\n",
            "Epoch 72/100\n",
            "58/58 [==============================] - 0s 6ms/step - loss: 1068933.3750\n",
            "Epoch 73/100\n",
            "58/58 [==============================] - 0s 7ms/step - loss: 1067389.3750\n",
            "Epoch 74/100\n",
            "58/58 [==============================] - 0s 6ms/step - loss: 1065845.2500\n",
            "Epoch 75/100\n",
            "58/58 [==============================] - 0s 6ms/step - loss: 1064308.1250\n",
            "Epoch 76/100\n",
            "58/58 [==============================] - 0s 6ms/step - loss: 1062766.3750\n",
            "Epoch 77/100\n",
            "58/58 [==============================] - 0s 6ms/step - loss: 1061234.1250\n",
            "Epoch 78/100\n",
            "58/58 [==============================] - 0s 6ms/step - loss: 1059703.2500\n",
            "Epoch 79/100\n",
            "58/58 [==============================] - 0s 7ms/step - loss: 1058172.6250\n",
            "Epoch 80/100\n",
            "58/58 [==============================] - 0s 7ms/step - loss: 1056652.5000\n",
            "Epoch 81/100\n",
            "58/58 [==============================] - 0s 6ms/step - loss: 1055125.8750\n",
            "Epoch 82/100\n",
            "58/58 [==============================] - 0s 6ms/step - loss: 1053608.7500\n",
            "Epoch 83/100\n",
            "58/58 [==============================] - 0s 6ms/step - loss: 1052090.1250\n",
            "Epoch 84/100\n",
            "58/58 [==============================] - 0s 6ms/step - loss: 1050576.1250\n",
            "Epoch 85/100\n",
            "58/58 [==============================] - 0s 6ms/step - loss: 1049064.7500\n",
            "Epoch 86/100\n",
            "58/58 [==============================] - 0s 6ms/step - loss: 1047552.6875\n",
            "Epoch 87/100\n",
            "58/58 [==============================] - 0s 6ms/step - loss: 1046050.3125\n",
            "Epoch 88/100\n",
            "58/58 [==============================] - 0s 6ms/step - loss: 1044546.7500\n",
            "Epoch 89/100\n",
            "58/58 [==============================] - 0s 6ms/step - loss: 1043045.8750\n",
            "Epoch 90/100\n",
            "58/58 [==============================] - 0s 7ms/step - loss: 1041551.3750\n",
            "Epoch 91/100\n",
            "58/58 [==============================] - 0s 6ms/step - loss: 1040059.7500\n",
            "Epoch 92/100\n",
            "58/58 [==============================] - 0s 6ms/step - loss: 1038571.5625\n",
            "Epoch 93/100\n",
            "58/58 [==============================] - 0s 6ms/step - loss: 1037082.0625\n",
            "Epoch 94/100\n",
            "58/58 [==============================] - 0s 6ms/step - loss: 1035598.5625\n",
            "Epoch 95/100\n",
            "58/58 [==============================] - 0s 6ms/step - loss: 1034116.5625\n",
            "Epoch 96/100\n",
            "58/58 [==============================] - 0s 6ms/step - loss: 1032638.3125\n",
            "Epoch 97/100\n",
            "58/58 [==============================] - 0s 6ms/step - loss: 1031166.1875\n",
            "Epoch 98/100\n",
            "58/58 [==============================] - 0s 6ms/step - loss: 1029690.3750\n",
            "Epoch 99/100\n",
            "58/58 [==============================] - 0s 7ms/step - loss: 1028225.7500\n",
            "Epoch 100/100\n",
            "58/58 [==============================] - 0s 7ms/step - loss: 1026757.9375\n"
          ]
        },
        {
          "output_type": "execute_result",
          "data": {
            "text/plain": [
              "<keras.callbacks.History at 0x7fa4f354b610>"
            ]
          },
          "metadata": {},
          "execution_count": 81
        }
      ]
    }
  ],
  "metadata": {
    "accelerator": "GPU",
    "colab": {
      "collapsed_sections": [],
      "machine_shape": "hm",
      "name": "Time_seris_stock_lstm.ipynb",
      "provenance": []
    },
    "kernelspec": {
      "display_name": "Python 3",
      "name": "python3"
    },
    "language_info": {
      "name": "python"
    }
  },
  "nbformat": 4,
  "nbformat_minor": 0
}